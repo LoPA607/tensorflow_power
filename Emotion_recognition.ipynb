{
  "nbformat": 4,
  "nbformat_minor": 0,
  "metadata": {
    "colab": {
      "provenance": [],
      "authorship_tag": "ABX9TyPaidnsZ+Ko2XBFcQNGUMAP",
      "include_colab_link": true
    },
    "kernelspec": {
      "name": "python3",
      "display_name": "Python 3"
    },
    "language_info": {
      "name": "python"
    }
  },
  "cells": [
    {
      "cell_type": "markdown",
      "metadata": {
        "id": "view-in-github",
        "colab_type": "text"
      },
      "source": [
        "<a href=\"https://colab.research.google.com/github/LoPA607/tensorflow_power/blob/main/Emotion_recognition.ipynb\" target=\"_parent\"><img src=\"https://colab.research.google.com/assets/colab-badge.svg\" alt=\"Open In Colab\"/></a>"
      ]
    },
    {
      "cell_type": "code",
      "execution_count": 10,
      "metadata": {
        "id": "CPjTeZpRq8ts"
      },
      "outputs": [],
      "source": [
        "import tensorflow\n",
        "from tensorflow import keras\n",
        "import numpy as np\n",
        "from keras import layers\n",
        "from keras.layers import Input, Dense, Activation, ZeroPadding2D, BatchNormalization, Flatten, Conv2D\n",
        "from keras.layers import AveragePooling2D, MaxPooling2D, Dropout, GlobalMaxPooling2D, GlobalAveragePooling2D\n",
        "from keras.models import Model\n",
        "from keras.preprocessing import image\n",
        "import pydot\n",
        "from IPython.display import SVG\n",
        "from keras.utils import plot_model\n",
        "import keras.backend as K\n",
        "K.set_image_data_format('channels_last')\n",
        "import matplotlib.pyplot as plt\n",
        "from matplotlib.pyplot import imshow\n",
        "import h5py\n",
        "import numpy\n",
        "import math"
      ]
    },
    {
      "cell_type": "code",
      "source": [
        "def mean_pred(y_true, y_pred):\n",
        "    return K.mean(y_pred)"
      ],
      "metadata": {
        "id": "qnUwAqFSvB_U"
      },
      "execution_count": 11,
      "outputs": []
    },
    {
      "cell_type": "code",
      "source": [
        "def load_dataset():\n",
        "    train_dataset = h5py.File('train_happy.h5', \"r\")\n",
        "    train_set_x_orig = np.array(train_dataset[\"train_set_x\"][:]) # your train set features\n",
        "    train_set_y_orig = np.array(train_dataset[\"train_set_y\"][:]) # your train set labels\n",
        "\n",
        "    test_dataset = h5py.File('test_happy.h5', \"r\")\n",
        "    test_set_x_orig = np.array(test_dataset[\"test_set_x\"][:]) # your test set features\n",
        "    test_set_y_orig = np.array(test_dataset[\"test_set_y\"][:]) # your test set labels\n",
        "\n",
        "    classes = np.array(test_dataset[\"list_classes\"][:]) # the list of classes\n",
        "\n",
        "    train_set_y_orig = train_set_y_orig.reshape((1, train_set_y_orig.shape[0]))\n",
        "    test_set_y_orig = test_set_y_orig.reshape((1, test_set_y_orig.shape[0]))\n",
        "\n",
        "    return train_set_x_orig, train_set_y_orig, test_set_x_orig, test_set_y_orig, classes"
      ],
      "metadata": {
        "id": "YGxe7apAy21C"
      },
      "execution_count": 12,
      "outputs": []
    },
    {
      "cell_type": "code",
      "source": [
        "X_train_orig, Y_train_orig, X_test_orig, Y_test_orig, classes = load_dataset()\n",
        "\n",
        "# Normalize image vectors\n",
        "X_train = X_train_orig/255.\n",
        "X_test = X_test_orig/255.\n",
        "\n",
        "# Reshape\n",
        "Y_train = Y_train_orig.T\n",
        "Y_test = Y_test_orig.T\n",
        "\n",
        "print (\"number of training examples = \" + str(X_train.shape[0]))\n",
        "print (\"number of test examples = \" + str(X_test.shape[0]))\n",
        "print (\"X_train shape: \" + str(X_train.shape))\n",
        "print (\"Y_train shape: \" + str(Y_train.shape))\n",
        "print (\"X_test shape: \" + str(X_test.shape))\n",
        "print (\"Y_test shape: \" + str(Y_test.shape))"
      ],
      "metadata": {
        "colab": {
          "base_uri": "https://localhost:8080/"
        },
        "id": "Qem3eiZczLol",
        "outputId": "586e002a-dc14-49d6-d69e-11d28fc51b20"
      },
      "execution_count": 14,
      "outputs": [
        {
          "output_type": "stream",
          "name": "stdout",
          "text": [
            "number of training examples = 600\n",
            "number of test examples = 150\n",
            "X_train shape: (600, 64, 64, 3)\n",
            "Y_train shape: (600, 1)\n",
            "X_test shape: (150, 64, 64, 3)\n",
            "Y_test shape: (150, 1)\n"
          ]
        }
      ]
    },
    {
      "cell_type": "code",
      "source": [
        "def model(input_shape):\n",
        "  X_input=Input(input_shape)\n",
        "  X=ZeroPadding2D((3,3))(X_input)\n",
        "  X=Conv2D(32,(7,7),strides=(1,1), name='conv0')(X)\n",
        "  X=BatchNormalization(axis=3,name='bn0')(X)\n",
        "  X=Activation('relu')(X)\n",
        "  X=MaxPooling2D((2,2),name='max_pool')(X)\n",
        "  X=Flatten()(X)\n",
        "  X=Dense(1,activation='sigmoid',name='fc')(X)\n",
        "  model=Model(inputs=X_input, outputs=X, name='HappyModel')\n",
        "  return model\n",
        "\n"
      ],
      "metadata": {
        "id": "9dAppL0S1ACd"
      },
      "execution_count": 26,
      "outputs": []
    },
    {
      "cell_type": "code",
      "source": [
        "HappyModel=model((64, 64, 3))"
      ],
      "metadata": {
        "id": "J4ViDUHX3ipc"
      },
      "execution_count": 27,
      "outputs": []
    },
    {
      "cell_type": "code",
      "source": [
        "HappyModel.compile(optimizer='adam', loss='binary_crossentropy', metrics=['accuracy'])"
      ],
      "metadata": {
        "id": "ViVkAuze5PTq"
      },
      "execution_count": 28,
      "outputs": []
    },
    {
      "cell_type": "code",
      "source": [
        "HappyModel.fit(X_train, Y_train, epochs=30, batch_size=32)"
      ],
      "metadata": {
        "colab": {
          "base_uri": "https://localhost:8080/"
        },
        "id": "j2Rpx2cF507Z",
        "outputId": "40151981-27d0-41d2-9503-6173214d2c72"
      },
      "execution_count": 29,
      "outputs": [
        {
          "output_type": "stream",
          "name": "stdout",
          "text": [
            "Epoch 1/30\n",
            "19/19 [==============================] - 5s 175ms/step - loss: 2.0562 - accuracy: 0.5950\n",
            "Epoch 2/30\n",
            "19/19 [==============================] - 3s 167ms/step - loss: 0.4130 - accuracy: 0.8167\n",
            "Epoch 3/30\n",
            "19/19 [==============================] - 4s 235ms/step - loss: 0.2275 - accuracy: 0.9100\n",
            "Epoch 4/30\n",
            "19/19 [==============================] - 3s 164ms/step - loss: 0.1490 - accuracy: 0.9450\n",
            "Epoch 5/30\n",
            "19/19 [==============================] - 3s 170ms/step - loss: 0.1375 - accuracy: 0.9533\n",
            "Epoch 6/30\n",
            "19/19 [==============================] - 3s 163ms/step - loss: 0.1008 - accuracy: 0.9633\n",
            "Epoch 7/30\n",
            "19/19 [==============================] - 5s 240ms/step - loss: 0.1006 - accuracy: 0.9650\n",
            "Epoch 8/30\n",
            "19/19 [==============================] - 3s 169ms/step - loss: 0.0804 - accuracy: 0.9800\n",
            "Epoch 9/30\n",
            "19/19 [==============================] - 3s 165ms/step - loss: 0.0795 - accuracy: 0.9733\n",
            "Epoch 10/30\n",
            "19/19 [==============================] - 4s 194ms/step - loss: 0.0820 - accuracy: 0.9783\n",
            "Epoch 11/30\n",
            "19/19 [==============================] - 4s 208ms/step - loss: 0.0568 - accuracy: 0.9850\n",
            "Epoch 12/30\n",
            "19/19 [==============================] - 3s 166ms/step - loss: 0.0656 - accuracy: 0.9833\n",
            "Epoch 13/30\n",
            "19/19 [==============================] - 3s 161ms/step - loss: 0.0442 - accuracy: 0.9883\n",
            "Epoch 14/30\n",
            "19/19 [==============================] - 4s 235ms/step - loss: 0.0424 - accuracy: 0.9917\n",
            "Epoch 15/30\n",
            "19/19 [==============================] - 3s 160ms/step - loss: 0.0319 - accuracy: 0.9933\n",
            "Epoch 16/30\n",
            "19/19 [==============================] - 3s 163ms/step - loss: 0.0392 - accuracy: 0.9917\n",
            "Epoch 17/30\n",
            "19/19 [==============================] - 3s 160ms/step - loss: 0.0433 - accuracy: 0.9900\n",
            "Epoch 18/30\n",
            "19/19 [==============================] - 5s 248ms/step - loss: 0.0377 - accuracy: 0.9883\n",
            "Epoch 19/30\n",
            "19/19 [==============================] - 3s 163ms/step - loss: 0.0418 - accuracy: 0.9850\n",
            "Epoch 20/30\n",
            "19/19 [==============================] - 3s 163ms/step - loss: 0.0700 - accuracy: 0.9833\n",
            "Epoch 21/30\n",
            "19/19 [==============================] - 3s 166ms/step - loss: 0.0565 - accuracy: 0.9850\n",
            "Epoch 22/30\n",
            "19/19 [==============================] - 4s 236ms/step - loss: 0.0260 - accuracy: 0.9917\n",
            "Epoch 23/30\n",
            "19/19 [==============================] - 3s 162ms/step - loss: 0.0287 - accuracy: 0.9917\n",
            "Epoch 24/30\n",
            "19/19 [==============================] - 3s 164ms/step - loss: 0.0347 - accuracy: 0.9850\n",
            "Epoch 25/30\n",
            "19/19 [==============================] - 4s 189ms/step - loss: 0.0628 - accuracy: 0.9733\n",
            "Epoch 26/30\n",
            "19/19 [==============================] - 4s 209ms/step - loss: 0.0278 - accuracy: 0.9933\n",
            "Epoch 27/30\n",
            "19/19 [==============================] - 3s 159ms/step - loss: 0.0145 - accuracy: 1.0000\n",
            "Epoch 28/30\n",
            "19/19 [==============================] - 3s 163ms/step - loss: 0.0200 - accuracy: 0.9950\n",
            "Epoch 29/30\n",
            "19/19 [==============================] - 4s 214ms/step - loss: 0.0243 - accuracy: 0.9950\n",
            "Epoch 30/30\n",
            "19/19 [==============================] - 4s 177ms/step - loss: 0.0313 - accuracy: 0.9900\n"
          ]
        },
        {
          "output_type": "execute_result",
          "data": {
            "text/plain": [
              "<keras.src.callbacks.History at 0x7d3a88355570>"
            ]
          },
          "metadata": {},
          "execution_count": 29
        }
      ]
    },
    {
      "cell_type": "code",
      "source": [
        "preds = HappyModel.evaluate(X_test, Y_test, batch_size=32, verbose=1, sample_weight=None)\n",
        "print(\"loss=\"+str(preds[0]))\n",
        "print(\"Test Accuracy=\"+str(preds[1]))"
      ],
      "metadata": {
        "colab": {
          "base_uri": "https://localhost:8080/"
        },
        "id": "ATml-dOY5_MG",
        "outputId": "03542bcb-6200-4639-8152-9e5d035dbff8"
      },
      "execution_count": 30,
      "outputs": [
        {
          "output_type": "stream",
          "name": "stdout",
          "text": [
            "5/5 [==============================] - 0s 43ms/step - loss: 0.0866 - accuracy: 0.9733\n",
            "loss=0.08656512200832367\n",
            "Test Accuracy=0.9733333587646484\n"
          ]
        }
      ]
    },
    {
      "cell_type": "code",
      "source": [
        "from keras.applications.imagenet_utils import preprocess_input"
      ],
      "metadata": {
        "id": "7vrci70r9qyi"
      },
      "execution_count": 32,
      "outputs": []
    },
    {
      "cell_type": "code",
      "source": [
        "img_path='happy.jpg'\n",
        "img=image.load_img(img_path, target_size=(64,64))\n",
        "imshow(img)\n",
        "x=image.img_to_array(img)\n",
        "x=np.expand_dims(x, axis=0)\n",
        "x=preprocess_input(x)\n",
        "print(HappyModel.predict(x))"
      ],
      "metadata": {
        "colab": {
          "base_uri": "https://localhost:8080/",
          "height": 467
        },
        "id": "aWtEbbOE8Lxj",
        "outputId": "9a329ae9-eb42-4d84-fd55-10ba8562bb6b"
      },
      "execution_count": 33,
      "outputs": [
        {
          "output_type": "stream",
          "name": "stdout",
          "text": [
            "1/1 [==============================] - 0s 86ms/step\n",
            "[[1.]]\n"
          ]
        },
        {
          "output_type": "display_data",
          "data": {
            "text/plain": [
              "<Figure size 640x480 with 1 Axes>"
            ],
            "image/png": "[encoded data removed]"
          },
          "metadata": {}
        }
      ]
    },
    {
      "cell_type": "code",
      "source": [
        "img_path='sad.jpg'\n",
        "img=image.load_img(img_path, target_size=(64,64))\n",
        "imshow(img)\n",
        "x=image.img_to_array(img)\n",
        "x=np.expand_dims(x, axis=0)\n",
        "x=preprocess_input(x)\n",
        "print(HappyModel.predict(x))"
      ],
      "metadata": {
        "colab": {
          "base_uri": "https://localhost:8080/",
          "height": 467
        },
        "id": "zcEs4OCW9e-_",
        "outputId": "a2597ad7-3af3-46da-ab60-a6116381c7c3"
      },
      "execution_count": 34,
      "outputs": [
        {
          "output_type": "stream",
          "name": "stdout",
          "text": [
            "1/1 [==============================] - 0s 27ms/step\n",
            "[[0.]]\n"
          ]
        },
        {
          "output_type": "display_data",
          "data": {
            "text/plain": [
              "<Figure size 640x480 with 1 Axes>"
            ],
            "image/png": "[encoded data removed]"
          },
          "metadata": {}
        }
      ]
    },
    {
      "cell_type": "code",
      "source": [],
      "metadata": {
        "id": "GRHosh9j-GNZ"
      },
      "execution_count": null,
      "outputs": []
    }
  ]
}